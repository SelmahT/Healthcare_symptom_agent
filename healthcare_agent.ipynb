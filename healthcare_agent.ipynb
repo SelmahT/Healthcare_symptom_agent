{
 "cells": [
  {
   "cell_type": "markdown",
   "id": "3dafc87e",
   "metadata": {},
   "source": [
    "# 🩺 Healthcare Symptom Checker Agent\n",
    "\n",
    "This notebook builds a simple AI agent that acts as a **healthcare assistant**.  \n",
    "It asks clarifying questions, suggests common possible causes, and **always adds a disclaimer**:  \n",
    "\n",
    "> ⚠️ This is not medical advice. Please consult a doctor.  \n",
    "\n",
    "We will then extend this with frameworks like LangChain in Level 3.\n"
   ]
  },
  {
   "cell_type": "markdown",
   "id": "e0bbf032",
   "metadata": {},
   "source": [
    "## 🔹 Step 1: Install & Import Dependencies\n",
    "We need:\n",
    "- `openai` → to connect to GPT models  \n",
    "- `python-dotenv` → to load our API key from a `.env` file  \n",
    "- `ipykernel` → to run the notebook in VS Code  \n"
   ]
  },
  {
   "cell_type": "code",
   "execution_count": 2,
   "id": "11042515",
   "metadata": {},
   "outputs": [],
   "source": [
    "#!pip install openai python-dotenv ipykernel --quiet\n"
   ]
  },
  {
   "cell_type": "markdown",
   "id": "76b6d600",
   "metadata": {},
   "source": [
    "## 🔹 Step 2: Load API Key Safely\n",
    "\n",
    "We need the API key to connect our healthcare agent with the OpenAI model.  \n",
    "But we must keep it **private**.\n",
    "\n",
    "### How we do it:\n",
    "1. Store the key in a local `.env` file:\n",
    "\n",
    "   OPENAI_API_KEY=sk-your-real-key-here\n",
    "\n",
    "2. Load it in Python using the `dotenv` package.\n",
    "3. This prevents us from writing the key directly in the notebook.\n",
    "\n",
    "⚠️ Important: Never upload `.env` to GitHub. We’ll fix this later with `.gitignore`.\n"
   ]
  },
  {
   "cell_type": "code",
   "execution_count": 5,
   "id": "84a20b90",
   "metadata": {},
   "outputs": [
    {
     "name": "stdout",
     "output_type": "stream",
     "text": [
      "✅ API Key loaded: Yes\n"
     ]
    }
   ],
   "source": [
    "\n",
    "\n",
    "# Step 2: Load API Key safely\n",
    "\n",
    "from dotenv import load_dotenv\n",
    "import os\n",
    "\n",
    "# Load .env file\n",
    "load_dotenv()\n",
    "\n",
    "# Get the API key\n",
    "api_key = os.getenv(\"OPENAI_API_KEY\")\n",
    "\n",
    "# Check if it's loaded\n",
    "print(\"✅ API Key loaded:\", \"Yes\" if api_key else \"No\")\n"
   ]
  },
  {
   "cell_type": "markdown",
   "id": "8867fc86",
   "metadata": {},
   "source": [
    "## 🔹 Step 3: Define the Healthcare Agent\n",
    "\n",
    "Our agent will:\n",
    "1. Ask clarifying questions about the user’s symptoms.\n",
    "2. Suggest possible general causes (non-diagnostic).\n",
    "3. Remind the user this is **not medical advice** and recommend consulting a doctor.\n",
    "\n",
    "### Type of Agent:\n",
    "This is a **Goal-Based Agent** because:\n",
    "- Goal = help users reason about symptoms and guide them safely.\n",
    "- The agent takes actions (ask, suggest, remind) to achieve that goal.\n"
   ]
  },
  {
   "cell_type": "code",
   "execution_count": 1,
   "id": "cb2fc46a",
   "metadata": {},
   "outputs": [
    {
     "name": "stdout",
     "output_type": "stream",
     "text": [
      "Healthcare Agent: Hello! Tell me your symptoms (type 'bye' to exit).\n",
      "Healthcare Agent: A fever may be due to infections like flu or cold. Stay hydrated and rest, but seek medical help if it persists.\n",
      "Healthcare Agent: I need more details about your symptoms. Could you describe what you’re feeling?\n",
      "Healthcare Agent: It sounds like you have a headache. Common causes include dehydration, stress, or eye strain. Please consult a doctor if it’s severe.\n",
      "Healthcare Agent: Take care! Remember, this is not medical advice. Please consult a healthcare professional for accurate diagnosis.\n"
     ]
    }
   ],
   "source": [
    "# --------------------------------------\n",
    "# 🔹 Step 3: Define the Healthcare Agent\n",
    "# --------------------------------------\n",
    "\n",
    "# Our agent will:\n",
    "# 1. Ask clarifying questions about the user’s symptoms.\n",
    "# 2. Suggest possible general causes (non-diagnostic).\n",
    "# 3. Remind the user this is NOT medical advice and recommend consulting a doctor.\n",
    "\n",
    "# ----------------------------------------------------\n",
    "# Option A: REAL OpenAI GPT call (commented out)\n",
    "# ----------------------------------------------------\n",
    "# Uncomment if you have API credits & want to test live with GPT\n",
    "\"\"\"\n",
    "def healthcare_agent_openai(user_input):\n",
    "    response = client.chat.completions.create(\n",
    "        model=\"gpt-4o-mini\",\n",
    "        messages=[\n",
    "            {\"role\": \"system\", \"content\": \"You are a helpful healthcare agent. \\\n",
    "             Ask clarifying questions, suggest possible causes of symptoms, \\\n",
    "             and remind the user this is not medical advice.\"},\n",
    "            {\"role\": \"user\", \"content\": user_input}\n",
    "        ]\n",
    "    )\n",
    "    return response.choices[0].message[\"content\"]\n",
    "\"\"\"\n",
    "\n",
    "# ----------------------------------------------------\n",
    "# Option B: SIMULATION MODE (safe & free)\n",
    "# ----------------------------------------------------\n",
    "def healthcare_agent(user_input):\n",
    "    user_input = user_input.lower()\n",
    "\n",
    "    # Simple rule-based responses\n",
    "    if \"headache\" in user_input:\n",
    "        return \"It sounds like you have a headache. Common causes include dehydration, stress, or eye strain. Please consult a doctor if it’s severe.\"\n",
    "    elif \"fever\" in user_input:\n",
    "        return \"A fever may be due to infections like flu or cold. Stay hydrated and rest, but seek medical help if it persists.\"\n",
    "    elif \"cough\" in user_input:\n",
    "        return \"Coughs may be related to colds, flu, or allergies. Monitor your symptoms and consult a doctor if it lasts long.\"\n",
    "    elif \"bye\" in user_input or \"exit\" in user_input:\n",
    "        return \"Take care! Remember, this is not medical advice. Please consult a healthcare professional for accurate diagnosis.\"\n",
    "    else:\n",
    "        return \"I need more details about your symptoms. Could you describe what you’re feeling?\"\n",
    "\n",
    "# ----------------------------------------------------\n",
    "# Run the agent (Simulation Mode)\n",
    "# ----------------------------------------------------\n",
    "print(\"Healthcare Agent: Hello! Tell me your symptoms (type 'bye' to exit).\")\n",
    "\n",
    "while True:\n",
    "    user_input = input(\"You: \")\n",
    "    response = healthcare_agent(user_input)\n",
    "    print(\"Healthcare Agent:\", response)\n",
    "    if \"bye\" in user_input.lower() or \"exit\" in user_input.lower():\n",
    "        break\n"
   ]
  },
  {
   "cell_type": "markdown",
   "id": "f37647e0",
   "metadata": {},
   "source": [
    "# 🩺 Healthcare Symptom Checker Agent (Offline Simulation)\n",
    "\n",
    "This notebook demonstrates an **improved Healthcare AI Agent** using **offline simulation**.  \n",
    "\n",
    "The agent:\n",
    "- Asks clarifying questions for vague symptoms\n",
    "- Suggests common possible causes (non-diagnostic)\n",
    "- Remembers previous inputs in the conversation\n",
    "- Always reminds the user: ⚠️ **This is not medical advice**\n"
   ]
  },
  {
   "cell_type": "markdown",
   "id": "76e2748f",
   "metadata": {},
   "source": [
    "## 🔹 Step 1: Install Required Packages\n",
    "\n",
    "We will use:\n",
    "- **langchain** → framework for agent logic\n",
    "- **gradio** (optional) → simple interface\n"
   ]
  },
  {
   "cell_type": "code",
   "execution_count": 12,
   "id": "a4cacca7",
   "metadata": {},
   "outputs": [],
   "source": [
    "#!pip install langchain gradio\n"
   ]
  },
  {
   "cell_type": "markdown",
   "id": "19129656",
   "metadata": {},
   "source": [
    "## 🔹 Why Offline Simulation?\n",
    "\n",
    "- No API key required → fully free\n",
    "- Safe for GitHub submission\n",
    "- Simulates real agent behavior: perception → decision → action\n",
    "- Can be extended later to use real LLMs\n"
   ]
  },
  {
   "cell_type": "code",
   "execution_count": 2,
   "id": "a33f5afe",
   "metadata": {},
   "outputs": [],
   "source": [
    "# Initialize conversation memory\n",
    "conversation_history = []\n"
   ]
  },
  {
   "cell_type": "markdown",
   "id": "80922bec",
   "metadata": {},
   "source": [
    "## 🔹 Step 1: Define the Agent\n",
    "\n",
    "The agent now:\n",
    "- Uses **conversation history** to give context-aware responses\n",
    "- Asks **clarifying questions** for vague input\n",
    "- Handles multiple symptoms in one session\n"
   ]
  },
  {
   "cell_type": "code",
   "execution_count": 3,
   "id": "bd1a351c",
   "metadata": {},
   "outputs": [],
   "source": [
    "def healthcare_agent_improved(user_input):\n",
    "    # Add user input to conversation history\n",
    "    conversation_history.append(f\"You: {user_input}\")\n",
    "    user_input_lower = user_input.lower()\n",
    "    \n",
    "    # Clarifying question for vague input\n",
    "    if \"not sure\" in user_input_lower or \"feel unwell\" in user_input_lower or user_input_lower.strip() == \"\":\n",
    "        response = \"Can you describe your main symptom? Is it pain, fever, or cough?\"\n",
    "    \n",
    "    # Symptom responses\n",
    "    elif \"headache\" in user_input_lower:\n",
    "        response = \"It sounds like you have a headache. Common causes include dehydration, stress, or eye strain.\"\n",
    "        # Context-aware advice\n",
    "        if any(\"fever\" in msg.lower() for msg in conversation_history):\n",
    "            response += \" Also, since you mentioned a fever earlier, consider consulting a doctor.\"\n",
    "    \n",
    "    elif \"fever\" in user_input_lower:\n",
    "        response = \"A fever may be caused by infections like flu or cold.\"\n",
    "    \n",
    "    elif \"cough\" in user_input_lower:\n",
    "        response = \"Coughs may be related to colds, flu, or allergies.\"\n",
    "    \n",
    "    # Exit condition\n",
    "    elif \"bye\" in user_input_lower or \"exit\" in user_input_lower:\n",
    "        response = \"Take care! Remember, this is not medical advice.\"\n",
    "    \n",
    "    # Unknown input\n",
    "    else:\n",
    "        response = \"I need more details about your symptoms. Can you describe them more clearly?\"\n",
    "    \n",
    "    # Add agent response to history\n",
    "    conversation_history.append(f\"Agent: {response}\")\n",
    "    return response\n"
   ]
  },
  {
   "cell_type": "markdown",
   "id": "7b055432",
   "metadata": {},
   "source": [
    "## 🔹 Step 2: Interact with the Agent\n",
    "\n",
    "Use a simple input/output loop in the notebook:\n",
    "- Type symptoms\n",
    "- Agent responds with advice and clarifying questions\n",
    "- Type 'bye' or 'exit' to end the conversation\n"
   ]
  },
  {
   "cell_type": "code",
   "execution_count": 4,
   "id": "ad80c3fa",
   "metadata": {},
   "outputs": [
    {
     "name": "stdout",
     "output_type": "stream",
     "text": [
      "Healthcare Agent (Offline Simulation): Hello! Type 'bye' to exit.\n",
      "Healthcare Agent: I need more details about your symptoms. Can you describe them more clearly?\n",
      "Healthcare Agent: It sounds like you have a headache. Common causes include dehydration, stress, or eye strain.\n",
      "Healthcare Agent: Take care! Remember, this is not medical advice.\n"
     ]
    }
   ],
   "source": [
    "print(\"Healthcare Agent (Offline Simulation): Hello! Type 'bye' to exit.\")\n",
    "\n",
    "while True:\n",
    "    user_input = input(\"You: \")\n",
    "    response = healthcare_agent_improved(user_input)\n",
    "    print(\"Healthcare Agent:\", response)\n",
    "    if \"bye\" in user_input.lower() or \"exit\" in user_input.lower():\n",
    "        break\n"
   ]
  },
  {
   "cell_type": "markdown",
   "id": "69e10209",
   "metadata": {},
   "source": [
    "## 🔹 Step 3: Optional GUI with Gradio\n",
    "\n",
    "You can interact with the agent using a **web interface**:\n",
    "- Input textbox for user symptoms\n",
    "- Output textbox for agent response\n",
    "- Works entirely offline\n"
   ]
  },
  {
   "cell_type": "code",
   "execution_count": 5,
   "id": "f70b4bca",
   "metadata": {},
   "outputs": [
    {
     "name": "stdout",
     "output_type": "stream",
     "text": [
      "* Running on local URL:  http://127.0.0.1:7865\n",
      "* To create a public link, set `share=True` in `launch()`.\n"
     ]
    },
    {
     "data": {
      "text/html": [
       "<div><iframe src=\"http://127.0.0.1:7865/\" width=\"100%\" height=\"500\" allow=\"autoplay; camera; microphone; clipboard-read; clipboard-write;\" frameborder=\"0\" allowfullscreen></iframe></div>"
      ],
      "text/plain": [
       "<IPython.core.display.HTML object>"
      ]
     },
     "metadata": {},
     "output_type": "display_data"
    },
    {
     "data": {
      "text/plain": []
     },
     "execution_count": 5,
     "metadata": {},
     "output_type": "execute_result"
    }
   ],
   "source": [
    "import gradio as gr\n",
    "\n",
    "# Optional: keep a conversation history\n",
    "conversation_history = []\n",
    "\n",
    "def interact(symptoms):\n",
    "    global conversation_history\n",
    "    # Call your improved agent\n",
    "    response = healthcare_agent_improved(symptoms)\n",
    "    \n",
    "    # Add to memory\n",
    "    conversation_history.append(f\"You: {symptoms}\")\n",
    "    conversation_history.append(f\"Agent: {response}\")\n",
    "    \n",
    "    # Display full conversation in output\n",
    "    chat_output = \"\\n\".join(conversation_history)\n",
    "    return chat_output\n",
    "\n",
    "iface = gr.Interface(\n",
    "    fn=interact,\n",
    "    inputs=gr.Textbox(lines=3, placeholder=\"Describe your symptoms here...\"),\n",
    "    outputs=gr.Textbox(lines=10, placeholder=\"Agent responses will appear here...\"),\n",
    "    title=\"Healthcare Symptom Checker (Offline)\",\n",
    "    description=\"Type your symptoms to get possible causes. ⚠️ This is not medical advice.\"\n",
    ")\n",
    "\n",
    "iface.launch()\n"
   ]
  }
 ],
 "metadata": {
  "kernelspec": {
   "display_name": "Python 3",
   "language": "python",
   "name": "python3"
  },
  "language_info": {
   "codemirror_mode": {
    "name": "ipython",
    "version": 3
   },
   "file_extension": ".py",
   "mimetype": "text/x-python",
   "name": "python",
   "nbconvert_exporter": "python",
   "pygments_lexer": "ipython3",
   "version": "3.13.7"
  }
 },
 "nbformat": 4,
 "nbformat_minor": 5
}
