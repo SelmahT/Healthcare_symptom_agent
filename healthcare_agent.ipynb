{
 "cells": [
  {
   "cell_type": "markdown",
   "id": "3dafc87e",
   "metadata": {},
   "source": [
    "# 🩺 Healthcare Symptom Checker Agent\n",
    "\n",
    "This notebook builds a simple AI agent that acts as a **healthcare assistant**.  \n",
    "It asks clarifying questions, suggests common possible causes, and **always adds a disclaimer**:  \n",
    "\n",
    "> ⚠️ This is not medical advice. Please consult a doctor.  \n",
    "\n",
    "We will then extend this with frameworks like LangChain in Level 3.\n"
   ]
  },
  {
   "cell_type": "markdown",
   "id": "e0bbf032",
   "metadata": {},
   "source": [
    "## 🔹 Step 1: Install & Import Dependencies\n",
    "We need:\n",
    "- `openai` → to connect to GPT models  \n",
    "- `python-dotenv` → to load our API key from a `.env` file  \n",
    "- `ipykernel` → to run the notebook in VS Code  \n"
   ]
  },
  {
   "cell_type": "code",
   "execution_count": 2,
   "id": "11042515",
   "metadata": {},
   "outputs": [],
   "source": [
    "#!pip install openai python-dotenv ipykernel --quiet\n"
   ]
  },
  {
   "cell_type": "markdown",
   "id": "76b6d600",
   "metadata": {},
   "source": [
    "## 🔹 Step 2: Load API Key Safely\n",
    "\n",
    "We need the API key to connect our healthcare agent with the OpenAI model.  \n",
    "But we must keep it **private**.\n",
    "\n",
    "### How we do it:\n",
    "1. Store the key in a local `.env` file:\n",
    "\n",
    "   OPENAI_API_KEY=sk-your-real-key-here\n",
    "\n",
    "2. Load it in Python using the `dotenv` package.\n",
    "3. This prevents us from writing the key directly in the notebook.\n",
    "\n",
    "⚠️ Important: Never upload `.env` to GitHub. We’ll fix this later with `.gitignore`.\n"
   ]
  },
  {
   "cell_type": "code",
   "execution_count": 5,
   "id": "84a20b90",
   "metadata": {},
   "outputs": [
    {
     "name": "stdout",
     "output_type": "stream",
     "text": [
      "✅ API Key loaded: Yes\n"
     ]
    }
   ],
   "source": [
    "\n",
    "\n",
    "# Step 2: Load API Key safely\n",
    "\n",
    "from dotenv import load_dotenv\n",
    "import os\n",
    "\n",
    "# Load .env file\n",
    "load_dotenv()\n",
    "\n",
    "# Get the API key\n",
    "api_key = os.getenv(\"OPENAI_API_KEY\")\n",
    "\n",
    "# Check if it's loaded\n",
    "print(\"✅ API Key loaded:\", \"Yes\" if api_key else \"No\")\n"
   ]
  },
  {
   "cell_type": "markdown",
   "id": "8867fc86",
   "metadata": {},
   "source": [
    "## 🔹 Step 3: Define the Healthcare Agent\n",
    "\n",
    "Our agent will:\n",
    "1. Ask clarifying questions about the user’s symptoms.\n",
    "2. Suggest possible general causes (non-diagnostic).\n",
    "3. Remind the user this is **not medical advice** and recommend consulting a doctor.\n",
    "\n",
    "### Type of Agent:\n",
    "This is a **Goal-Based Agent** because:\n",
    "- Goal = help users reason about symptoms and guide them safely.\n",
    "- The agent takes actions (ask, suggest, remind) to achieve that goal.\n"
   ]
  },
  {
   "cell_type": "code",
   "execution_count": 1,
   "id": "cb2fc46a",
   "metadata": {},
   "outputs": [
    {
     "name": "stdout",
     "output_type": "stream",
     "text": [
      "Healthcare Agent: Hello! Tell me your symptoms (type 'bye' to exit).\n",
      "Healthcare Agent: A fever may be due to infections like flu or cold. Stay hydrated and rest, but seek medical help if it persists.\n",
      "Healthcare Agent: I need more details about your symptoms. Could you describe what you’re feeling?\n",
      "Healthcare Agent: It sounds like you have a headache. Common causes include dehydration, stress, or eye strain. Please consult a doctor if it’s severe.\n",
      "Healthcare Agent: Take care! Remember, this is not medical advice. Please consult a healthcare professional for accurate diagnosis.\n"
     ]
    }
   ],
   "source": [
    "# --------------------------------------\n",
    "# 🔹 Step 3: Define the Healthcare Agent\n",
    "# --------------------------------------\n",
    "\n",
    "# Our agent will:\n",
    "# 1. Ask clarifying questions about the user’s symptoms.\n",
    "# 2. Suggest possible general causes (non-diagnostic).\n",
    "# 3. Remind the user this is NOT medical advice and recommend consulting a doctor.\n",
    "\n",
    "# ----------------------------------------------------\n",
    "# Option A: REAL OpenAI GPT call (commented out)\n",
    "# ----------------------------------------------------\n",
    "# Uncomment if you have API credits & want to test live with GPT\n",
    "\"\"\"\n",
    "def healthcare_agent_openai(user_input):\n",
    "    response = client.chat.completions.create(\n",
    "        model=\"gpt-4o-mini\",\n",
    "        messages=[\n",
    "            {\"role\": \"system\", \"content\": \"You are a helpful healthcare agent. \\\n",
    "             Ask clarifying questions, suggest possible causes of symptoms, \\\n",
    "             and remind the user this is not medical advice.\"},\n",
    "            {\"role\": \"user\", \"content\": user_input}\n",
    "        ]\n",
    "    )\n",
    "    return response.choices[0].message[\"content\"]\n",
    "\"\"\"\n",
    "\n",
    "# ----------------------------------------------------\n",
    "# Option B: SIMULATION MODE (safe & free)\n",
    "# ----------------------------------------------------\n",
    "def healthcare_agent(user_input):\n",
    "    user_input = user_input.lower()\n",
    "\n",
    "    # Simple rule-based responses\n",
    "    if \"headache\" in user_input:\n",
    "        return \"It sounds like you have a headache. Common causes include dehydration, stress, or eye strain. Please consult a doctor if it’s severe.\"\n",
    "    elif \"fever\" in user_input:\n",
    "        return \"A fever may be due to infections like flu or cold. Stay hydrated and rest, but seek medical help if it persists.\"\n",
    "    elif \"cough\" in user_input:\n",
    "        return \"Coughs may be related to colds, flu, or allergies. Monitor your symptoms and consult a doctor if it lasts long.\"\n",
    "    elif \"bye\" in user_input or \"exit\" in user_input:\n",
    "        return \"Take care! Remember, this is not medical advice. Please consult a healthcare professional for accurate diagnosis.\"\n",
    "    else:\n",
    "        return \"I need more details about your symptoms. Could you describe what you’re feeling?\"\n",
    "\n",
    "# ----------------------------------------------------\n",
    "# Run the agent (Simulation Mode)\n",
    "# ----------------------------------------------------\n",
    "print(\"Healthcare Agent: Hello! Tell me your symptoms (type 'bye' to exit).\")\n",
    "\n",
    "while True:\n",
    "    user_input = input(\"You: \")\n",
    "    response = healthcare_agent(user_input)\n",
    "    print(\"Healthcare Agent:\", response)\n",
    "    if \"bye\" in user_input.lower() or \"exit\" in user_input.lower():\n",
    "        break\n"
   ]
  }
 ],
 "metadata": {
  "kernelspec": {
   "display_name": "Python 3",
   "language": "python",
   "name": "python3"
  },
  "language_info": {
   "codemirror_mode": {
    "name": "ipython",
    "version": 3
   },
   "file_extension": ".py",
   "mimetype": "text/x-python",
   "name": "python",
   "nbconvert_exporter": "python",
   "pygments_lexer": "ipython3",
   "version": "3.13.7"
  }
 },
 "nbformat": 4,
 "nbformat_minor": 5
}
